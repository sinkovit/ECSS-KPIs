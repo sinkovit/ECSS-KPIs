{
 "cells": [
  {
   "cell_type": "markdown",
   "metadata": {},
   "source": [
    "# ECSS KPIs"
   ]
  },
  {
   "cell_type": "markdown",
   "metadata": {},
   "source": [
    "This notebook is used to generate displays of the ECSS KPIs for the XSEDE final reporting."
   ]
  },
  {
   "cell_type": "code",
   "execution_count": 1,
   "metadata": {},
   "outputs": [
    {
     "data": {
      "text/plain": [
       "'module://ipykernel.pylab.backend_inline'"
      ]
     },
     "execution_count": 1,
     "metadata": {},
     "output_type": "execute_result"
    }
   ],
   "source": [
    "%matplotlib inline\n",
    "import matplotlib as mpl\n",
    "mpl.get_backend()"
   ]
  },
  {
   "cell_type": "code",
   "execution_count": 9,
   "metadata": {},
   "outputs": [],
   "source": [
    "import matplotlib.pyplot as plt\n",
    "import numpy as np"
   ]
  },
  {
   "cell_type": "markdown",
   "metadata": {},
   "source": [
    "## Initialize data"
   ]
  },
  {
   "cell_type": "code",
   "execution_count": 49,
   "metadata": {},
   "outputs": [],
   "source": [
    "reporting_period          = ['RY1', 'RY2', 'RY3', 'RY4', 'RY5', 'RY6']\n",
    "nrep = len(reporting_periods)\n",
    "x_pos = np.arange(nrep)\n",
    "\n",
    "ecss_project_achieved      = [48,  47,  47,  52,  55,  61]\n",
    "ecss_project_target        = [50,  50,  45,  45,  45,  50]\n",
    "ecss_impact_achieved       = [4.1, 4.0, 4.2, 4.5, 4.3, 4.5]\n",
    "ecss_impact_target         = [4.0, 4.0, 4.0, 4.0, 4.0, 4.0]\n",
    "ecss_satisfaction_achieved = [4.5, 4.5, 4.6, 4.8, 4.8, 4.7]\n",
    "ecss_satisfaction_target   = [4.5, 4.5, 4.5, 4.5, 4.5, 4.5]"
   ]
  },
  {
   "cell_type": "markdown",
   "metadata": {},
   "source": [
    "## Projects completed"
   ]
  },
  {
   "cell_type": "code",
   "execution_count": 50,
   "metadata": {},
   "outputs": [
    {
     "data": {
      "image/png": "[encoded data removed]",
      "text/plain": [
       "<Figure size 432x288 with 1 Axes>"
      ]
     },
     "metadata": {
      "needs_background": "light"
     },
     "output_type": "display_data"
    }
   ],
   "source": [
    "f, ax = plt.subplots()\n",
    "ax.bar(x_pos - 0.15, ecss_project_target, align='center', color='red', \n",
    "       width=0.25, edgecolor=['black']*nrep, label='target')\n",
    "ax.bar(x_pos + 0.15, ecss_project_achieved, align='center', color='blue', \n",
    "       width=0.25, edgecolor=['black']*nrep, label='completed')\n",
    "ax.set_xticks(x_pos)\n",
    "ax.set_ylim(0, 65)\n",
    "ax.set_xticklabels(reporting_period)\n",
    "ax.set_ylabel('Projects')\n",
    "ax.set_title('Number of ECSS projects completed')\n",
    "ax.legend(loc='upper left', frameon=False)\n",
    "plt.show()\n",
    "f.savefig('ECSS_complete.png')"
   ]
  },
  {
   "cell_type": "markdown",
   "metadata": {},
   "source": [
    "## Impact"
   ]
  },
  {
   "cell_type": "code",
   "execution_count": 59,
   "metadata": {},
   "outputs": [
    {
     "data": {
      "image/png": "[encoded data removed]",
      "text/plain": [
       "<Figure size 432x288 with 1 Axes>"
      ]
     },
     "metadata": {
      "needs_background": "light"
     },
     "output_type": "display_data"
    }
   ],
   "source": [
    "f, ax = plt.subplots()\n",
    "ax.bar(x_pos - 0.15, ecss_impact_target, align='center', color='red', \n",
    "       width=0.25, edgecolor=['black']*nrep, label='target')\n",
    "ax.bar(x_pos + 0.15, ecss_impact_achieved, align='center', color='blue', \n",
    "       width=0.25, edgecolor=['black']*nrep, label='reported')\n",
    "ax.set_xticks(x_pos)\n",
    "ax.set_ylim(0, 5.5)\n",
    "ax.set_xticklabels(reporting_period)\n",
    "ax.set_ylabel('Impact')\n",
    "ax.set_title('Mean rating of ECSS impact by PIs')\n",
    "ax.legend(loc='upper left', frameon=False)\n",
    "plt.show()\n",
    "f.savefig('ECSS_impact.png')"
   ]
  },
  {
   "cell_type": "markdown",
   "metadata": {},
   "source": [
    "## Satisfaction"
   ]
  },
  {
   "cell_type": "code",
   "execution_count": 60,
   "metadata": {},
   "outputs": [
    {
     "data": {
      "image/png": "[encoded data removed]",
      "text/plain": [
       "<Figure size 432x288 with 1 Axes>"
      ]
     },
     "metadata": {
      "needs_background": "light"
     },
     "output_type": "display_data"
    }
   ],
   "source": [
    "f, ax = plt.subplots()\n",
    "ax.bar(x_pos - 0.15, ecss_satisfaction_target, align='center', color='red', \n",
    "       width=0.25, edgecolor=['black']*nrep, label='target')\n",
    "ax.bar(x_pos + 0.15, ecss_satisfaction_achieved, align='center', color='blue', \n",
    "       width=0.25, edgecolor=['black']*nrep, label='reported')\n",
    "ax.set_xticks(x_pos)\n",
    "ax.set_ylim(0, 5.5)\n",
    "ax.set_xticklabels(reporting_period)\n",
    "ax.set_ylabel('Satisfaction')\n",
    "ax.set_title('Mean rating of ECSS satisfaction by PIs')\n",
    "ax.legend(loc='upper left', frameon=False)\n",
    "plt.show()\n",
    "f.savefig('ECSS_satisfaction.png')"
   ]
  },
  {
   "cell_type": "code",
   "execution_count": null,
   "metadata": {},
   "outputs": [],
   "source": []
  }
 ],
 "metadata": {
  "kernelspec": {
   "display_name": "Python 3",
   "language": "python",
   "name": "python3"
  },
  "language_info": {
   "codemirror_mode": {
    "name": "ipython",
    "version": 3
   },
   "file_extension": ".py",
   "mimetype": "text/x-python",
   "name": "python",
   "nbconvert_exporter": "python",
   "pygments_lexer": "ipython3",
   "version": "3.8.5"
  }
 },
 "nbformat": 4,
 "nbformat_minor": 2
}
